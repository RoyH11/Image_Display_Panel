{
 "cells": [
  {
   "cell_type": "code",
   "execution_count": 1,
   "metadata": {},
   "outputs": [],
   "source": [
    "import json\n",
    "from pptx import Presentation\n",
    "from pptx.enum.shapes import MSO_SHAPE_TYPE"
   ]
  },
  {
   "cell_type": "code",
   "execution_count": 2,
   "metadata": {},
   "outputs": [],
   "source": [
    "def slide_to_json(pptx_file, json_output):\n",
    "    # Open the PowerPoint file\n",
    "    prs = Presentation(pptx_file)\n",
    "\n",
    "    slide_width = prs.slide_width\n",
    "    slide_height = prs.slide_height\n",
    "\n",
    "    # convert from EMUs in the PowerPoint file to inches, then to pixels\n",
    "    slide_width_pixels = slide_width / 914400 * 96\n",
    "    slide_height_pixels = slide_height / 914400 * 96\n",
    "\n",
    "    slide_info = {\n",
    "        \"canvas_size\": {\n",
    "            \"width\": slide_width_pixels,\n",
    "            \"height\": slide_height_pixels\n",
    "        },\n",
    "        \"slide_index\": 0,\n",
    "        \"elements\": []\n",
    "    }\n",
    "\n",
    "    first_slide = prs.slides[0]\n",
    "    # Iterate over shapes in the first slide\n",
    "    for shape in first_slide.shapes:\n",
    "        element = {\n",
    "            \"type\": None, \n",
    "            \"position\": {\n",
    "                \"x\" : shape.left/914400*96,\n",
    "                \"y\" : shape.top/914400*96\n",
    "            }, \n",
    "            \"size\": {\n",
    "                \"width\" : shape.width/914400*96,\n",
    "                \"height\" : shape.height/914400*96\n",
    "            }\n",
    "        }\n",
    "\n",
    "        # Identify the shape type\n",
    "        if shape.shape_type == MSO_SHAPE_TYPE.PICTURE:\n",
    "            element[\"type\"] = \"image\"\n",
    "        elif shape.shape_type == MSO_SHAPE_TYPE.TEXT_BOX or shape.shape_type == MSO_SHAPE_TYPE.PLACEHOLDER:\n",
    "            element[\"type\"] = \"text\"\n",
    "            # Extract the text content\n",
    "            content = shape.text if hasattr(shape, \"text\") else \"\"\n",
    "\n",
    "            # If 'x' appears twice in the content, skip saving the content\n",
    "            if content.count('x') != 2:\n",
    "                element[\"content\"] = content\n",
    "            else: \n",
    "                element[\"content\"] = \"\"\n",
    "        elif shape.shape_type == MSO_SHAPE_TYPE.LINE: \n",
    "            element[\"type\"] = \"line\"\n",
    "\n",
    "        if element[\"type\"] is not None:\n",
    "            slide_info[\"elements\"].append(element)\n",
    "\n",
    "    # Write the slide info to a JSON file\n",
    "    with open(json_output, 'w') as f:\n",
    "        json.dump(slide_info, f, indent=4)\n",
    "\n",
    "    print(f\"Slide info saved to {json_output}\")\n"
   ]
  },
  {
   "cell_type": "code",
   "execution_count": 3,
   "metadata": {},
   "outputs": [
    {
     "name": "stdout",
     "output_type": "stream",
     "text": [
      "Slide info saved to Macula_Fundus_Layout.json\n"
     ]
    }
   ],
   "source": [
    "# run \n",
    "pptx_file = \"Participant 1001 – Macula Fundus.pptx\"\n",
    "json_output = \"Macula_Fundus_Layout.json\"\n",
    "slide_to_json(pptx_file, json_output)"
   ]
  },
  {
   "cell_type": "code",
   "execution_count": 4,
   "metadata": {},
   "outputs": [
    {
     "name": "stdout",
     "output_type": "stream",
     "text": [
      "Reordered slide info saved to Macula_Fundus_Layout_reordered.json\n"
     ]
    }
   ],
   "source": [
    "# In this json file, reorder the elements \n",
    "# reorder based on their x and y positions\n",
    "# y position is the primary key and x position is the secondary key\n",
    "# in ascending order\n",
    "# save the reordered json file as Macula_Fundus_Layout_reordered.json\n",
    "with open(json_output, 'r') as f:\n",
    "    slide_info = json.load(f)\n",
    "\n",
    "slide_info[\"elements\"] = sorted(slide_info[\"elements\"], key=lambda x: (x[\"position\"][\"y\"], x[\"position\"][\"x\"]))\n",
    "reordered_json_output = \"Macula_Fundus_Layout_reordered.json\"\n",
    "with open(reordered_json_output, 'w') as f:\n",
    "    json.dump(slide_info, f, indent=4)\n",
    "\n",
    "print(f\"Reordered slide info saved to {reordered_json_output}\")"
   ]
  },
  {
   "cell_type": "code",
   "execution_count": 5,
   "metadata": {},
   "outputs": [
    {
     "name": "stdout",
     "output_type": "stream",
     "text": [
      "Updated slide info saved to Macula_Fundus_Layout_reordered.json\n"
     ]
    }
   ],
   "source": [
    "# In this json file\n",
    "# If type of element is image, add a new key \"label\" with value \"\"\n",
    "# If type of element is text and coneent key is \"\", add a new key \"label\" with value \"\"\n",
    "\n",
    "with open(reordered_json_output, 'r') as f:\n",
    "    slide_info = json.load(f)\n",
    "\n",
    "for element in slide_info[\"elements\"]:\n",
    "    if element[\"type\"] == \"image\":\n",
    "        element[\"label\"] = \"\"\n",
    "    elif element[\"type\"] == \"text\" and element[\"content\"] == \"\":\n",
    "        element[\"label\"] = \"\"\n",
    "\n",
    "reordered_json_output = \"Macula_Fundus_Layout_reordered.json\"\n",
    "with open(reordered_json_output, 'w') as f:\n",
    "    json.dump(slide_info, f, indent=4)\n",
    "\n",
    "print(f\"Updated slide info saved to {reordered_json_output}\")"
   ]
  },
  {
   "cell_type": "code",
   "execution_count": 6,
   "metadata": {},
   "outputs": [],
   "source": [
    "labels = [\"iCare_Eidon_R_Macula_Color Photography\", \n",
    "\"Optomed_Aurora_R_Macula or Optic Disc_Color Photography\",\n",
    "\"Topcon_Maestro2_R_Macula_Color Photography\",\n",
    "\"Topcon_Triton_R_Macula, 12 x 12_Color Photography\",\n",
    "\"Topcon_Triton_R_Macula, 6 x 6_Color Photography\",\n",
    "\n",
    "\"iCare_Eidon_L_Macula_Color Photography\",\n",
    "\"Optomed_Aurora_L_Macula or Optic Disc_Color Photography\",\n",
    "\"Topcon_Maestro2_L_Macula_Color Photography\",\n",
    "\"Topcon_Triton_L_Macula, 12 x 12_Color Photography\",\n",
    "\"Topcon_Triton_L_Macula, 6 x 6_Color Photography\",\n",
    "\n",
    "\"iCare_Eidon_R_Macula_Autofluorescence\",\n",
    "\"iCare_Eidon_L_Macula_Autofluorescence\",\n",
    "\n",
    "\"iCare_Eidon_R_Macula_Infrared Reflectance\",\n",
    "\"Heidelberg_Spectralis_R_Macula_Infrared Reflectance\",\n",
    "\"Topcon_Maestro2_R_Macula, 6 x 6_Infrared Reflectance\",\n",
    "\"Zeiss_Cirrus_R_Macula_Infrared Reflectance\",\n",
    "\n",
    "\"iCare_Eidon_L_Macula_Infrared Reflectance\",\n",
    "\"Heidelberg_Spectralis_L_Macula_Infrared Reflectance\",\n",
    "\"Topcon_Maestro2_L_Macula, 6 x 6_Infrared Reflectance\",\n",
    "\"Zeiss_Cirrus_L_Macula_Infrared Reflectance\"]"
   ]
  },
  {
   "cell_type": "code",
   "execution_count": 7,
   "metadata": {},
   "outputs": [
    {
     "name": "stdout",
     "output_type": "stream",
     "text": [
      "Updated slide info saved to Macula_Fundus_Layout_reordered.json\n"
     ]
    }
   ],
   "source": [
    "# for all elements with type image, set the label to the corresponding label in the labels list\n",
    "# in the existing order\n",
    "with open(reordered_json_output, 'r') as f:\n",
    "    slide_info = json.load(f)\n",
    "\n",
    "image_elements = [element for element in slide_info[\"elements\"] if element[\"type\"] == \"image\"]\n",
    "for i, element in enumerate(image_elements):\n",
    "    element[\"label\"] = labels[i]\n",
    "\n",
    "with open(reordered_json_output, 'w') as f:\n",
    "    json.dump(slide_info, f, indent=4)\n",
    "\n",
    "print(f\"Updated slide info saved to {reordered_json_output}\")"
   ]
  },
  {
   "cell_type": "code",
   "execution_count": 8,
   "metadata": {},
   "outputs": [
    {
     "name": "stdout",
     "output_type": "stream",
     "text": [
      "Updated slide info saved to Macula_Fundus_Layout_reordered.json\n"
     ]
    }
   ],
   "source": [
    "# for all elements with type text and content is \"\", set the label to the corresponding label in the labels list\n",
    "# in the existing order\n",
    "with open(reordered_json_output, 'r') as f:\n",
    "    slide_info = json.load(f)\n",
    "\n",
    "text_elements = [element for element in slide_info[\"elements\"] if element[\"type\"] == \"text\" and element[\"content\"] == \"\"]\n",
    "for i, element in enumerate(text_elements):\n",
    "    element[\"label\"] = labels[i]\n",
    "\n",
    "with open(reordered_json_output, 'w') as f:\n",
    "    json.dump(slide_info, f, indent=4)\n",
    "\n",
    "print(f\"Updated slide info saved to {reordered_json_output}\")"
   ]
  }
 ],
 "metadata": {
  "kernelspec": {
   "display_name": "pytorch_env",
   "language": "python",
   "name": "python3"
  },
  "language_info": {
   "codemirror_mode": {
    "name": "ipython",
    "version": 3
   },
   "file_extension": ".py",
   "mimetype": "text/x-python",
   "name": "python",
   "nbconvert_exporter": "python",
   "pygments_lexer": "ipython3",
   "version": "3.9.21"
  }
 },
 "nbformat": 4,
 "nbformat_minor": 2
}
